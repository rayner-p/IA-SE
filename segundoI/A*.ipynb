{
 "cells": [
  {
   "cell_type": "code",
   "execution_count": 47,
   "metadata": {},
   "outputs": [],
   "source": [
    "from neo4j import GraphDatabase\n",
    "username = ('neo4j')\n",
    "password = ('neo4jj')\n",
    "uri = \"bolt://localhost:7687\"\n",
    "import pandas as pd\n",
    "driver = GraphDatabase.driver(uri, auth=(username, password))\n",
    "session2= driver.session(database=\"neo4j\")\n",
    "session2= driver.session()\n",
    "\n",
    "\n",
    "df = pd.read_csv(\"/Users/rayner/Desktop/parro.csv\")\n",
    "query =session2.run(\"\"\"CREATE (San_Sebastian:Parroquia { name:'San_Sebastian', latitud:-2.8955909, longitud:-79.0133524}),\n",
    " (Bellavista:Parroquia { name:'Bellavista', latitud:-2.8851236, longitud:-79.0075666}),\n",
    " (El_Batan:Parroquia { name:'El_Batan', latitud:-2.8978019, longitud:-79.0338916}),\n",
    " (El_Vecino:Parroquia { name:'El_vecino', latitud:-2.8849639, longitud:-78.9956858}),\n",
    " (Loja_Argelia:Parroquia { name:'Loja_Argelia', latitud:-2.8875716, longitud:-78.9994732}),\n",
    " (Banios:Parroquia { name:' Banio', latitud:-2.89008, longitud:-79.02636}),\n",
    " (Machangara:Parroquia { name:'Machangara', latitud:-2.8885026, longitud:-78.9726496}),\n",
    " (Totoracocha:Parroquia { name:'Totoracocha', latitud:-2.8909431, longitud:-78.9876801}),\n",
    " (Ricaurte:Parroquia { name:'Ricaurte', latitud:-2.86347, longitud:-78.96523}),\n",
    " (Parque_Calderon:Parroquia { name:'Parque_Calderon', latitud:-2.89741, longitud:-79.00448})\"\"\")\n",
    "session2.close()\n",
    "driver.close()    \n"
   ]
  },
  {
   "cell_type": "code",
   "execution_count": 48,
   "metadata": {},
   "outputs": [
    {
     "name": "stdout",
     "output_type": "stream",
     "text": [
      "SE CREA LOS NODOS DE RELACION DE RUTAS ENTRE LOS LUGARES ................\n",
      "None\n",
      "SE CREA LOS NODOS DE RELACION DE RUTAS ENTRE LOS LUGARES ................\n",
      "None\n",
      "SE CREA LOS NODOS DE RELACION DE RUTAS ENTRE LOS LUGARES ................\n",
      "None\n",
      "SE CREA LOS NODOS DE RELACION DE RUTAS ENTRE LOS LUGARES ................\n",
      "None\n",
      "SE CREA LOS NODOS DE RELACION DE RUTAS ENTRE LOS LUGARES ................\n",
      "None\n",
      "SE CREA LOS NODOS DE RELACION DE RUTAS ENTRE LOS LUGARES ................\n",
      "None\n",
      "SE CREA LOS NODOS DE RELACION DE RUTAS ENTRE LOS LUGARES ................\n",
      "None\n",
      "SE CREA LOS NODOS DE RELACION DE RUTAS ENTRE LOS LUGARES ................\n",
      "None\n",
      "SE CREA LOS NODOS DE RELACION DE RUTAS ENTRE LOS LUGARES ................\n",
      "None\n",
      "SE CREA LOS NODOS DE RELACION DE RUTAS ENTRE LOS LUGARES ................\n",
      "None\n",
      "SE CREA LOS NODOS DE RELACION DE RUTAS ENTRE LOS LUGARES ................\n",
      "None\n"
     ]
    }
   ],
   "source": [
    "from neo4j import GraphDatabase\n",
    "class lugares(object):\n",
    "    def __init__(self):\n",
    "        self._driver = GraphDatabase.driver(\"bolt:neo4j://localhost:7687\", auth=(\"neo4j\", \"neo4jj\"), encrypted=False)\n",
    "    def close(self):\n",
    "        self._driver.close()\n",
    "\n",
    "    def CREAR_RUTA(self,origen,destino,costo,hn):\n",
    "        with self._driver.session() as session:\n",
    "            greeting2 = session.write_transaction(relacion,origen,destino,costo,hn)\n",
    "            print(greeting2) \n",
    "\n",
    "    def relacion(tx,origen,destino,costo,hn):\n",
    "        result = tx.run(\"match(l1:Lugares{nombre:'\"+origen+\"'})-[r:RUTA_DE{costo:\"+costo+\",hn:\"+hn+\"}]->(l2:Lugares{nombre:'\"+destino+\"'}) return l2\").data()\n",
    "        if int(len(result)) == 0:\n",
    "            print(\"SE CREA LOS NODOS DE RELACION DE RUTAS ENTRE LOS LUGARES ................\")\n",
    "            result2 = tx.run(\" match(\"+origen+\":Lugares {nombre:'\"+origen+\"'}) match(\"+destino+\":Lugares {nombre:'\"+destino+\"'}) create(\"+origen+\")-[:RUTA_DE{costo:\"+costo+\",hn:\"+hn+\"}]->(\"+destino+\")\")\n",
    "        elif int(len(result)) == 1:\n",
    "            print(\"YA EXISTE LA RUTA**********\")\n",
    "    #uta = session2.run(\" match(\"+origen+\":Lugares {nombre:'\"+origen+\"'}) match(\"+destino+\":Lugares {nombre:'\"+destino+\"'}) create(\"+origen+\")-[:RUTA_DE{costo:\"+costo+\",hn:\"+hn+\"}]->(\"+destino+\")\")\n",
    "listaL = ([\"San_Sebastian\", \"El_Batan\", 1.03, 2.5],\n",
    "          [\"San_Sebastian\", \"Parque_Calderon\", 2.57, 2.9],\n",
    "          [\"San_Sebastian\", \"Bellavista\", 2.56, 3.9],\n",
    "          [\"El_Batan\", \"Baños\", 4.68, 7.9],\n",
    "          [\"Parque_Calderon\", \"Loja_Argelia\", 1.38, 1.9],\n",
    "          [\"Bellavista\", \"Loja_Argelia\", 1.26, 2.4],\n",
    "          [\"Loja_Argelia\", \"El_Vecino\", 1.18, 1.5],\n",
    "          [\"Loja_Argelia\", \"Misicata\", 0.76985, 1.9],\n",
    "          [\"El_Vecino\", \"Las_Orquideas\", 1.85, 2.7],\n",
    "          [\"El_Vecino\", \"Ricaurte\", 3.22, 4.7],\n",
    "          [\"Misicata\", \"Totoracocha\", 1.39, 2.8])\n",
    "m = lugares()\n",
    "for ll in listaL:\n",
    "    #SE INICIA EL METODO DE GENERAR NODOS LUGARES\n",
    "    m.CREAR_RUTA(str(ll[0]),str(ll[1]),str(ll[2]),str(ll[3]))"
   ]
  },
  {
   "cell_type": "code",
   "execution_count": null,
   "metadata": {},
   "outputs": [],
   "source": []
  }
 ],
 "metadata": {
  "kernelspec": {
   "display_name": "Python 3",
   "language": "python",
   "name": "python3"
  },
  "language_info": {
   "codemirror_mode": {
    "name": "ipython",
    "version": 3
   },
   "file_extension": ".py",
   "mimetype": "text/x-python",
   "name": "python",
   "nbconvert_exporter": "python",
   "pygments_lexer": "ipython3",
   "version": "3.7.4"
  }
 },
 "nbformat": 4,
 "nbformat_minor": 2
}
