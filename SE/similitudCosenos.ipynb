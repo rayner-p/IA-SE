{
 "cells": [
  {
   "cell_type": "code",
   "execution_count": null,
   "metadata": {},
   "outputs": [],
   "source": [
    "#UNIVERSIDAD POLITECNICA SALESIANA\n",
    "# Materia: Sistemas Expertos\n",
    "# Docente: Diego Quisi\n",
    "# Tema: Similitud de Coseno en Neo4j\n",
    "# Objetivo: Consolidar los conocimientos adquiridos en clases "
   ]
  },
  {
   "cell_type": "code",
   "execution_count": null,
   "metadata": {},
   "outputs": [],
   "source": [
    "from neo4j import GraphDatabase\n",
    "username = ('neo4j')\n",
    "password = ('neo4jj')\n",
    "uri = \"bolt://localhost:7687\"\n",
    "driver = GraphDatabase.driver(uri, auth=(username, password))\n",
    "session2= driver.session(database=\"neo4j\")\n",
    "session2= driver.session()\n",
    "cocina =session2.run(\"CREATE (french:Cuisine {name:'French'}), (italian:Cuisine {name:'Italian'}),  (indian:Cuisine {name:'Indian'}), (lebanese:Cuisine {name:'Lebanese'}), (portuguese:Cuisine {name:'Portuguese'}),(british:Cuisine {name:'British'}),  (mauritian:Cuisine {name:'Mauritian'})\") \n",
    "persona = session2.run(\"CREATE (zhen:Person {name: 'Zhen'}), (praveena:Person {name: 'Praveena'}), (michael:Person {name:'Michael'}), (arya:Person {name: 'Arya'}), (karin:Person {name: 'Karin'})\")\n",
    "relacion = session2.run(\"CREATE (praveena)-[:LIKES {score: 9}]->(indian),  (praveena)-[:LIKES {score: 7}]->(portuguese), (praveena)-[:LIKES {score: 8}]->(british), (praveena)-[:LIKES {score: 1}]->(mauritian)\")\n",
    "relacion2= session2.run (\"CREATE (zhen)-[:LIKES {score: 10}]->(french), (zhen)-[:LIKES {score: 6}]->(indian), (zhen)-[:LIKES {score: 2}]->(british)\")\n",
    "relacion3= session2.run (\" CREATE (michael)-[:LIKES {score: 8}]->(french), (michael)-[:LIKES {score: 7}]->(italian), (michael)-[:LIKES {score: 9}]->(indian), (michael)-[:LIKES {score: 3}]->(portuguese)\")\n",
    "relacion4 = session2.run (\" CREATE (arya)-[:LIKES {score: 10}]->(lebanese),  (arya)-[:LIKES {score: 10}]->(italian),  (arya)-[:LIKES {score: 7}]->(portuguese),  (arya)-[:LIKES {score: 9}]->(mauritian)\")\n",
    "relacion5 = session2.run (\" CREATE (karin)-[:LIKES {score: 9}]->(lebanese), (karin)-[:LIKES {score: 7}]->(italian), (karin)-[:LIKES {score: 10}]->(portuguese)\")\n",
    "                    \n",
    "session2.close()\n",
    "driver.close() "
   ]
  },
  {
   "cell_type": "code",
   "execution_count": 15,
   "metadata": {},
   "outputs": [
    {
     "name": "stdout",
     "output_type": "stream",
     "text": [
      "<neo4j.work.result.Result object at 0x7fe4b9e2d2d0>\n",
      "<Record nodes=5 similarityPairs=5 writeRelationshipType='SIMILAR' writeProperty='score' min=0.9542236328125 max=1.0000038146972656 mean=0.9824020385742187 p95=1.0000038146972656> ln\n",
      " \n",
      " \n",
      " \n",
      "<Record from='Praveena' to='Karin' similarity=1.0> \n",
      "\n",
      "<Record from='Karin' to='Praveena' similarity=1.0> \n",
      "\n",
      "<Record from='Michael' to='Arya' similarity=0.9788908326303921> \n",
      "\n",
      "<Record from='Arya' to='Michael' similarity=0.9788908326303921> \n",
      "\n",
      "<Record from='Arya' to='Karin' similarity=0.9610904115204073> \n",
      "\n",
      "<Record from='Karin' to='Arya' similarity=0.9610904115204073> \n",
      "\n",
      "<Record from='Zhen' to='Michael' similarity=0.9542262139256075> \n",
      "\n",
      "<Record from='Michael' to='Zhen' similarity=0.9542262139256075> \n",
      "\n",
      "<Record from='Praveena' to='Michael' similarity=0.9429903335828895> \n",
      "\n",
      "<Record from='Michael' to='Praveena' similarity=0.9429903335828895> \n",
      "\n",
      "<Record from='Zhen' to='Praveena' similarity=0.9191450300180579> \n",
      "\n",
      "<Record from='Praveena' to='Zhen' similarity=0.9191450300180579> \n",
      "\n",
      "<Record from='Karin' to='Michael' similarity=0.8498063272285821> \n",
      "\n",
      "<Record from='Arya' to='Praveena' similarity=0.7194014606174091> \n",
      "\n",
      "<Record from='Zhen' to='Arya' similarity=0.0> \n",
      "\n",
      "<Record nodes=5 similarityPairs=5 writeRelationshipType='SIMILAR' writeProperty='score' min=0.9542236328125 max=1.0000038146972656 mean=0.9824020385742187 p95=1.0000038146972656> \n",
      "\n"
     ]
    }
   ],
   "source": [
    "#obtener similitud entre los gustos de la persona \n",
    "gustos = session2.run(\" MATCH (p:Person), (c:Cuisine)OPTIONAL MATCH (p)-[likes:LIKES]->(c) WITH {item:id(p), weights: collect(coalesce(likes.score, gds.util.NaN()))} AS userData WITH collect(userData) AS data CALL gds.alpha.similarity.cosine.write({data: data,topK: 1, similarityCutoff: 0.1}) YIELD nodes, similarityPairs, writeRelationshipType, writeProperty, min, max, mean, stdDev, p25, p50, p75, p90, p95, p99, p999, p100 RETURN nodes, similarityPairs, writeRelationshipType, writeProperty, min, max, mean, p95\")\n",
    "print (gustos)\n",
    "for c in gustos:\n",
    "    print (c, 'ln')\n",
    "print (' ')\n",
    "print (' ')\n",
    "print (' ')\n",
    "similitudGustos = session2.run (\" MATCH (p:Person), (c:Cuisine)  OPTIONAL MATCH (p)-[likes:LIKES]->(c) WITH {item:id(p), weights: collect(coalesce(likes.score, gds.util.NaN()))} AS userData  WITH collect(userData) AS data  CALL gds.alpha.similarity.cosine.stream({data: data})  YIELD item1, item2, count1, count2, similarity  RETURN gds.util.asNode(item1).name AS from, gds.util.asNode(item2).name AS to, similarity  ORDER BY similarity DESC \")\n",
    "for c2 in similitudGustos:\n",
    "    print (c2, \"\\n\")\n",
    "\n",
    "\n",
    "totalsimilitud= session2.run(\" MATCH (p:Person), (c:Cuisine)  OPTIONAL MATCH (p)-[likes:LIKES]->(c)  WITH {item:id(p), weights: collect(coalesce(likes.score, gds.util.NaN()))} AS userData   WITH collect(userData) AS data  CALL gds.alpha.similarity.cosine.write({ data: data,topK: 1,similarityCutoff: 0.1})  YIELD nodes, similarityPairs, writeRelationshipType, writeProperty, min, max, mean, stdDev, p25, p50, p75, p90, p95, p99, p999, p100  RETURN nodes, similarityPairs, writeRelationshipType, writeProperty, min, max, mean, p95\")\n",
    "for re in   totalsimilitud:                      \n",
    "    print (re, \"\\n\")"
   ]
  },
  {
   "cell_type": "code",
   "execution_count": null,
   "metadata": {},
   "outputs": [],
   "source": []
  }
 ],
 "metadata": {
  "kernelspec": {
   "display_name": "Python 3",
   "language": "python",
   "name": "python3"
  },
  "language_info": {
   "codemirror_mode": {
    "name": "ipython",
    "version": 3
   },
   "file_extension": ".py",
   "mimetype": "text/x-python",
   "name": "python",
   "nbconvert_exporter": "python",
   "pygments_lexer": "ipython3",
   "version": "3.7.4"
  }
 },
 "nbformat": 4,
 "nbformat_minor": 2
}
