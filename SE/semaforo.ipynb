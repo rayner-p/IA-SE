{
 "cells": [
  {
   "cell_type": "markdown",
   "metadata": {},
   "source": [
    "(defrule tipo-robot-regla\n",
    "\n",
    "(initial-fact)\n",
    "=>\n",
    "\n",
    "(printout t \"QUE TIPO DE ROBOT/CONFIGURACION TIENES (peaton/carro)?\" crlf)\n",
    "\n",
    "(assert (tipo-robot (read)))\n",
    "\n",
    ")\n",
    "\n",
    "(defrule semaforo-color-regla\n",
    "\n",
    "(or (tipo-robot peaton) (tipo-robot carro))\n",
    "\n",
    "=>\n",
    "\n",
    "(printout t \"Ingrese el color del semaforo (rojo/verde/amarrillo)?\" crlf)\n",
    "\n",
    "(assert (semaforo (read)))\n",
    "\n",
    ")\n",
    "\n",
    "(defrule general-regla\n",
    "\n",
    "(tipo-robot ?tipo)\n",
    "\n",
    "(semaforo ?color)\n",
    "\n",
    "=>\n",
    "\n",
    "(if (eq ?color verde)\n",
    "\n",
    "then\n",
    "\n",
    "(printout t \"El robot: \" ?tipo \" puede pasar \" crlf)\n",
    "\n",
    ")\n",
    "\n",
    "(if (eq ?color amarillo)\n",
    "\n",
    "then\n",
    "\n",
    "(printout t \"El robot: \" ?tipo \" pasar rapido \" crlf)\n",
    "\n",
    ")\n",
    "\n",
    "(if (eq ?color rojo)\n",
    "\n",
    "then\n",
    "\n",
    "(printout t \"El robot: \" ?tipo \" no puede pasar \" crlf)\n",
    "\n",
    ")\n",
    "\n",
    ")\n",
    "\n"
   ]
  },
  {
   "cell_type": "code",
   "execution_count": null,
   "metadata": {},
   "outputs": [],
   "source": []
  },
  {
   "cell_type": "code",
   "execution_count": null,
   "metadata": {},
   "outputs": [],
   "source": []
  }
 ],
 "metadata": {
  "kernelspec": {
   "display_name": "Python 3",
   "language": "python",
   "name": "python3"
  },
  "language_info": {
   "codemirror_mode": {
    "name": "ipython",
    "version": 3
   },
   "file_extension": ".py",
   "mimetype": "text/x-python",
   "name": "python",
   "nbconvert_exporter": "python",
   "pygments_lexer": "ipython3",
   "version": "3.7.4"
  }
 },
 "nbformat": 4,
 "nbformat_minor": 2
}
