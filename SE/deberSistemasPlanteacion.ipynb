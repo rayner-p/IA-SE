{
 "cells": [
  {
   "attachments": {},
   "cell_type": "markdown",
   "metadata": {},
   "source": [
    "                                            UNIVERSIDAD POLITECNICA SALESIANA\n",
    "1.\tSuponga que una agencia de viajes desea que diseñemos un SE para ayudar a los clientes a elegir un destino vacacional. Analizar lo siguiente:\n",
    "¿Es un problema adecuado para la implementación de un SE ? Justifique su respuesta.\n",
    "Sí, lo es.  Este tipo de sistema podría facilitar mucho a los clientes a elegir un destino en base a sus necesidades, disponibilidad y comodidad. \n",
    "Plantee una idea de cómo realizaría el proceso de adquisición de conocimiento.\n",
    "En primer lugar se necesita recolectar la información de los lugares turísticos más visitados por las personas en los últimos años, conocer en que temporada viajan más, además del tipo de destino. Asimismo se debe investigar el rango de edad de los turistas que viajan a estos para luego poder hacer un análisis y definición de los datos esenciales encontrados. Conseguido estos datos es necesario almacenarlos para su posterior uso y empezar a plantear los hechos para el sistema con ayuda de la empresa.\n",
    "¿Qué estructura lógica cree que podría usar para implementar dicho sistema?\n",
    "Lo ideal sería empezar desde el rango de edades de los clientes para luego pasar a los destinos más visitados por personas dentro de ese rango. Un sistema basado en reglas sería la mejor opción para este caso.\n",
    "\n",
    "\n",
    "2.\tEn base a la problemática de COVID, es factible realizar un SE para diagnosticar su contagio.\n",
    "¿Es un problema adecuado para la implementación de un SE ? Justifique su respuesta.\n",
    "Sí, lo es. Un sistema experto es un programa que se alimenta de información y crece con la misma por ende crear uno con toda la información que ha salido sobre esta pandemia sería la mejor opción.\n",
    "\n",
    "Plantee una idea de cómo realizaría el proceso de adquisición de conocimiento.\n",
    "\n",
    "Realizar el proceso de web scraping para poder obtener toda la información importante relacionada con el COVID, lo siguiente es filtrar la información obtenida para determinar la mejor ruta posible. A continuación se debe almacenar esta información y empezar a plantear el funcionamiento del programa.\n",
    "\n",
    "¿Qué estructura lógica cree que podría usar para implementar dicho sistema?\n",
    "En primer lugar con la información obtenida definir todos los síntomas que esta enfermedad presenta y que esta no se relaciona con alguna otra afección, en segundo lugar definir los pasos a seguir en caso de que el resultado sea positivo. \n"
   ]
  }
 ],
 "metadata": {
  "kernelspec": {
   "display_name": "Python 3",
   "language": "python",
   "name": "python3"
  },
  "language_info": {
   "codemirror_mode": {
    "name": "ipython",
    "version": 3
   },
   "file_extension": ".py",
   "mimetype": "text/x-python",
   "name": "python",
   "nbconvert_exporter": "python",
   "pygments_lexer": "ipython3",
   "version": "3.7.4"
  }
 },
 "nbformat": 4,
 "nbformat_minor": 2
}
