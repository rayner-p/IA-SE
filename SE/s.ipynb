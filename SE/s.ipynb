{
 "cells": [
  {
   "cell_type": "code",
   "execution_count": null,
   "metadata": {},
   "outputs": [],
   "source": [
    "print('IMAGENES')"
   ]
  },
  {
   "cell_type": "code",
   "execution_count": null,
   "metadata": {},
   "outputs": [],
   "source": [
    "from statistics import mean\n",
    "total= []\n",
    "pixel=[0.6, 0.3, 0.4]\n",
    "#promedioR = mean(pixel)\n",
    "#print('Intesidad :', promedioR)\n",
    "def calcularPromedio(valor):\n",
    "    suma = valor\n",
    "    longitud = 2\n",
    "    resultado= suma/longitud\n",
    "    total.append(resultado)   \n",
    "promedioRojo= calcularPromedio(pixel[0])\n",
    "promedioVerde= calcularPromedio(pixel[1])\n",
    "promedioAzul= calcularPromedio(pixel[2])\n",
    "#print(total)\n",
    "sumaIntesidad=0\n",
    "for c in total:\n",
    "    sumaIntesidad+=c\n",
    "    \n",
    "print ('La intesidad es:')\n",
    "print (sumaIntesidad)\n",
    "\n",
    "\n"
   ]
  },
  {
   "cell_type": "code",
   "execution_count": null,
   "metadata": {},
   "outputs": [],
   "source": [
    "blanco = []\n",
    "negro = []\n",
    "for c in total:\n",
    "    \n",
    "    if c >= 0.5:\n",
    "        blanco.append(c)\n",
    "        print('Blanco')\n",
    "    elif c <= 0.5:\n",
    "        negro.append(c)  \n",
    "        print('Negro', negro)"
   ]
  },
  {
   "cell_type": "code",
   "execution_count": null,
   "metadata": {},
   "outputs": [],
   "source": [
    "lista=[44,11,15,29,53,12,30]\n",
    "#maximo=max(lista)\n",
    "maximo=0\n",
    "for mayor in lista:\n",
    "    if mayor>maximo:\n",
    "        maximo = mayor\n",
    "        resultado=lista.index(maximo)\n",
    "print('Numero maximo en la lista:', maximo, 'su posicion es:', resultado)\n",
    "\n",
    "    "
   ]
  },
  {
   "cell_type": "code",
   "execution_count": 1,
   "metadata": {},
   "outputs": [
    {
     "name": "stdout",
     "output_type": "stream",
     "text": [
      "Numero menor: 11 posicion en la list es: 1\n",
      "\n",
      "\n",
      "la lista de forma ascendente es: [11, 12, 15, 29, 30, 44, 53]\n"
     ]
    }
   ],
   "source": [
    "lista=[44,11,15,29,53,12,30]\n",
    "#minimo= min(lista)\n",
    "\n",
    "#print('El numero minimo es:', minimo, 'Su posicion en la lista es:',resultado )\n",
    "mini=lista[0]\n",
    "#print(mini)\n",
    "\n",
    "for mayor in lista:\n",
    "    if mayor<mini:\n",
    "        mini=mayor\n",
    "        resultado=lista.index(mini)\n",
    "        print('Numero menor:', mini, 'posicion en la list es:', resultado)\n",
    "\n",
    "print('\\n')\n",
    "\n",
    "print('la lista de forma ascendente es:',sorted(lista) )\n"
   ]
  },
  {
   "cell_type": "code",
   "execution_count": 3,
   "metadata": {},
   "outputs": [
    {
     "name": "stdout",
     "output_type": "stream",
     "text": [
      "Ingrese el valor de la serie fibonnaci a calcular: 20\n",
      "\n",
      " 0\n",
      "\n",
      " 1\n",
      "\n",
      " 1\n",
      "\n",
      " 2\n",
      "\n",
      " 3\n",
      "\n",
      " 5\n",
      "\n",
      " 8\n",
      "\n",
      " 13\n",
      "\n",
      " 21\n",
      "\n",
      " 34\n",
      "\n",
      " 55\n",
      "\n",
      " 89\n",
      "\n",
      " 144\n",
      "\n",
      " 233\n",
      "\n",
      " 377\n",
      "\n",
      " 610\n",
      "\n",
      " 987\n",
      "\n",
      " 1597\n",
      "\n",
      " 2584\n",
      "\n",
      " 4181\n"
     ]
    }
   ],
   "source": [
    "def fibonnaci (valor):\n",
    "    a, b = 0,1\n",
    "    for i in range(valor):\n",
    "        print('\\n',a, end='\\n')\n",
    "        a, b = b, a + b\n",
    "numero= int(input('Ingrese el valor de la serie fibonnaci a calcular: '))\n",
    "fibonnaci(numero)\n"
   ]
  },
  {
   "cell_type": "code",
   "execution_count": 35,
   "metadata": {},
   "outputs": [
    {
     "name": "stdout",
     "output_type": "stream",
     "text": [
      "La cantidad de ocurrencias del valor es: 3\n"
     ]
    }
   ],
   "source": [
    "#Ejercicio 8\n",
    "# Escribir una función que reciba una lista y un valor, \n",
    "#y devuelva la cantidad de veces que aparece ese valor en la lista\n",
    "\n",
    "def ocurrencias(lista,valor):\n",
    "    cont=0\n",
    "    for numero in lista:\n",
    "        if numero == valor:\n",
    "            cont= cont+1\n",
    "    print('La cantidad de ocurrencias del valor es:',cont)\n",
    "l=[1,4,2,3,5,1,4,2,3,6,1,7,1,3,5,1,1,5,3,2]\n",
    "v=2\n",
    "ocurrencias(l,v)\n",
    "\n",
    "\n"
   ]
  },
  {
   "cell_type": "code",
   "execution_count": null,
   "metadata": {},
   "outputs": [],
   "source": [
    "# Generar un CRUD (Crear, Leer, Actualizar y Eliminar) de una agenda de telefono.\n",
    "\n",
    "\n",
    "class agendaTelefono(object):\n",
    "    def __init__(self, nombre, apellido, celular, correo ):\n",
    "        self.nombre = nombre\n",
    "        self.apellido = apellido\n",
    "        self.celular = celular\n",
    "        self.correo = corre0\n",
    "    \n",
    "    \n",
    "    def leerAgenda(usuario):\n",
    "        if usuario == telefono.nombre:\n",
    "            return str(telefono.nombre) + \" \" + str(telefono.apellido)+ \" \" + str(telefono.celular)+ \" \" + str(telefono.correo)\n",
    "        else: \n",
    "            return str('No existe usuario')\n",
    "    def eliminar(valor):\n",
    "        if valor == telefono.nombre:\n",
    "            print('eliminado')\n",
    "        else:\n",
    "            print('no existe usuario con ese nombre')"
   ]
  }
 ],
 "metadata": {
  "kernelspec": {
   "display_name": "Python 3",
   "language": "python",
   "name": "python3"
  },
  "language_info": {
   "codemirror_mode": {
    "name": "ipython",
    "version": 3
   },
   "file_extension": ".py",
   "mimetype": "text/x-python",
   "name": "python",
   "nbconvert_exporter": "python",
   "pygments_lexer": "ipython3",
   "version": "3.7.4"
  }
 },
 "nbformat": 4,
 "nbformat_minor": 2
}
